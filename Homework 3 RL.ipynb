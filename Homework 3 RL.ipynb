{
 "cells": [
  {
   "cell_type": "code",
   "execution_count": 89,
   "metadata": {},
   "outputs": [],
   "source": [
    "import numpy as np\n",
    "import matplotlib.pyplot as plt"
   ]
  },
  {
   "cell_type": "code",
   "execution_count": 90,
   "metadata": {},
   "outputs": [],
   "source": [
    "#The state space is 1-dimensional.\n",
    "N=100 #number of states.\n",
    "A=2\n",
    "q_low=0.51 #probability of success of action a_low, prob. of decreasing the size of the queue.\n",
    "q_high=0.6 #probab ility of success of action a_high, prob. of decreasing the size of the queue.\n",
    "p=0.5 #probability that the queue increases by 1.\n",
    "actions=[0,1]\n",
    "def reward(x,a):\n",
    "    if a==1:\n",
    "        return -(x/N)**2-0.05\n",
    "    return -(x/N)**2\n",
    "\n",
    "gamma=0.99"
   ]
  },
  {
   "cell_type": "markdown",
   "metadata": {},
   "source": [
    "Exclusive parameters of Homework 3"
   ]
  },
  {
   "cell_type": "code",
   "execution_count": 91,
   "metadata": {},
   "outputs": [],
   "source": [
    "T=10**5\n",
    "K=100\n",
    "M=100"
   ]
  },
  {
   "cell_type": "code",
   "execution_count": 92,
   "metadata": {},
   "outputs": [],
   "source": [
    "def piece_linear_map(x):\n",
    "    function=np.zeros(int(2*N/5))\n",
    "    for i in range(int(len(function)/2)):\n",
    "        if 5*i<= x and x <= 5*(i+1)-1:\n",
    "            function[i]=1\n",
    "            break\n",
    "    function[int(i+N/5)]=(x-5*i)/5\n",
    "    return function\n",
    "\n",
    "mapp_piece=np.zeros((int(2*N/5),N))\n",
    "for x in range(N):\n",
    "    mapp_piece[:,x]=piece_linear_map(x)"
   ]
  },
  {
   "cell_type": "code",
   "execution_count": 93,
   "metadata": {},
   "outputs": [],
   "source": [
    "#We are going to build the transition matrix\n",
    "#P[x,y,a] gives the probability of moving from state x to state y when taking action a.\n",
    "#We will consider x-x_{t+1}; y-x_{t}; a, the action.\n",
    "q_s=[q_low,q_high]\n",
    "P = np.zeros((N,N,A))\n",
    "for a in range(A):\n",
    "    P[0,1,a]=p*(1-q_s[a])\n",
    "    P[0,0,a]=p*q_s[a] + (1-p)*(1-q_s[a])+(1-p)*q_s[a]\n",
    "    for x in range(1,N-1):\n",
    "        P[x,x+1,a]=p*(1-q_s[a])\n",
    "        P[x,x,a]=p*q_s[a] + (1-p)*(1-q_s[a])\n",
    "        P[x,x-1,a]=(1-p)*q_s[a]\n",
    "    P[N-1,N-1,a]=p*q_s[a] + (1-p)*(1-q_s[a])+p*(1-q_s[a])\n",
    "    P[N-1,N-2,a]=(1-p)*q_s[a]"
   ]
  },
  {
   "cell_type": "markdown",
   "metadata": {},
   "source": [
    "Here we define the pi function that we are going to use as a first iteration in the Soft Policy Iteration algorithm."
   ]
  },
  {
   "cell_type": "code",
   "execution_count": 140,
   "metadata": {},
   "outputs": [],
   "source": [
    "pi_initial = np.zeros((N,2))\n",
    "for x in range(N):\n",
    "    pi_initial[x,0]=1/2\n",
    "    pi_initial[x,1]=1/2"
   ]
  },
  {
   "cell_type": "code",
   "execution_count": 141,
   "metadata": {},
   "outputs": [
    {
     "data": {
      "text/plain": [
       "array([[0.5, 0.5],\n",
       "       [0.5, 0.5],\n",
       "       [0.5, 0.5],\n",
       "       [0.5, 0.5],\n",
       "       [0.5, 0.5],\n",
       "       [0.5, 0.5],\n",
       "       [0.5, 0.5],\n",
       "       [0.5, 0.5],\n",
       "       [0.5, 0.5],\n",
       "       [0.5, 0.5],\n",
       "       [0.5, 0.5],\n",
       "       [0.5, 0.5],\n",
       "       [0.5, 0.5],\n",
       "       [0.5, 0.5],\n",
       "       [0.5, 0.5],\n",
       "       [0.5, 0.5],\n",
       "       [0.5, 0.5],\n",
       "       [0.5, 0.5],\n",
       "       [0.5, 0.5],\n",
       "       [0.5, 0.5],\n",
       "       [0.5, 0.5],\n",
       "       [0.5, 0.5],\n",
       "       [0.5, 0.5],\n",
       "       [0.5, 0.5],\n",
       "       [0.5, 0.5],\n",
       "       [0.5, 0.5],\n",
       "       [0.5, 0.5],\n",
       "       [0.5, 0.5],\n",
       "       [0.5, 0.5],\n",
       "       [0.5, 0.5],\n",
       "       [0.5, 0.5],\n",
       "       [0.5, 0.5],\n",
       "       [0.5, 0.5],\n",
       "       [0.5, 0.5],\n",
       "       [0.5, 0.5],\n",
       "       [0.5, 0.5],\n",
       "       [0.5, 0.5],\n",
       "       [0.5, 0.5],\n",
       "       [0.5, 0.5],\n",
       "       [0.5, 0.5],\n",
       "       [0.5, 0.5],\n",
       "       [0.5, 0.5],\n",
       "       [0.5, 0.5],\n",
       "       [0.5, 0.5],\n",
       "       [0.5, 0.5],\n",
       "       [0.5, 0.5],\n",
       "       [0.5, 0.5],\n",
       "       [0.5, 0.5],\n",
       "       [0.5, 0.5],\n",
       "       [0.5, 0.5],\n",
       "       [0.5, 0.5],\n",
       "       [0.5, 0.5],\n",
       "       [0.5, 0.5],\n",
       "       [0.5, 0.5],\n",
       "       [0.5, 0.5],\n",
       "       [0.5, 0.5],\n",
       "       [0.5, 0.5],\n",
       "       [0.5, 0.5],\n",
       "       [0.5, 0.5],\n",
       "       [0.5, 0.5],\n",
       "       [0.5, 0.5],\n",
       "       [0.5, 0.5],\n",
       "       [0.5, 0.5],\n",
       "       [0.5, 0.5],\n",
       "       [0.5, 0.5],\n",
       "       [0.5, 0.5],\n",
       "       [0.5, 0.5],\n",
       "       [0.5, 0.5],\n",
       "       [0.5, 0.5],\n",
       "       [0.5, 0.5],\n",
       "       [0.5, 0.5],\n",
       "       [0.5, 0.5],\n",
       "       [0.5, 0.5],\n",
       "       [0.5, 0.5],\n",
       "       [0.5, 0.5],\n",
       "       [0.5, 0.5],\n",
       "       [0.5, 0.5],\n",
       "       [0.5, 0.5],\n",
       "       [0.5, 0.5],\n",
       "       [0.5, 0.5],\n",
       "       [0.5, 0.5],\n",
       "       [0.5, 0.5],\n",
       "       [0.5, 0.5],\n",
       "       [0.5, 0.5],\n",
       "       [0.5, 0.5],\n",
       "       [0.5, 0.5],\n",
       "       [0.5, 0.5],\n",
       "       [0.5, 0.5],\n",
       "       [0.5, 0.5],\n",
       "       [0.5, 0.5],\n",
       "       [0.5, 0.5],\n",
       "       [0.5, 0.5],\n",
       "       [0.5, 0.5],\n",
       "       [0.5, 0.5],\n",
       "       [0.5, 0.5],\n",
       "       [0.5, 0.5],\n",
       "       [0.5, 0.5],\n",
       "       [0.5, 0.5],\n",
       "       [0.5, 0.5],\n",
       "       [0.5, 0.5]])"
      ]
     },
     "execution_count": 141,
     "metadata": {},
     "output_type": "execute_result"
    }
   ],
   "source": [
    "pi_initial"
   ]
  },
  {
   "cell_type": "markdown",
   "metadata": {},
   "source": [
    "We include the LSTD algorithm which we will use as a subroutine in the Soft Policy Iteration algorithm to compute the value function at each iteration."
   ]
  },
  {
   "cell_type": "code",
   "execution_count": 97,
   "metadata": {},
   "outputs": [],
   "source": [
    "def LSTD(mapp, samples):\n",
    "    num_features = len(mapp)\n",
    "    A = np.zeros((num_features, num_features))\n",
    "    b = np.zeros(num_features)\n",
    "\n",
    "    for t in range(len(samples)):\n",
    "        phi_t = mapp[:, int(samples[t, 0])]\n",
    "        phi_t_next = mapp[:, int(samples[t, 3])]\n",
    "        reward_t = samples[t, 2]\n",
    "\n",
    "        A += np.outer(phi_t, phi_t - gamma*phi_t_next)\n",
    "        b += phi_t * reward_t\n",
    "    theta = np.matmul(np.linalg.pinv(A/len(samples)), b/len(samples))\n",
    "\n",
    "    Value = np.dot(theta, mapp)\n",
    "\n",
    "    return Value"
   ]
  },
  {
   "cell_type": "markdown",
   "metadata": {},
   "source": [
    "We will also have to generate samples for each policy generated during the Soft Policy Iteration algorithm."
   ]
  },
  {
   "cell_type": "code",
   "execution_count": 98,
   "metadata": {},
   "outputs": [],
   "source": [
    "def sample_generator(policy,X):#we will begin with 99 in the sampling for the initial policy evaluation,\n",
    "    #but after that we shall input as X the last X of the trajectory of the previous policy.\n",
    "    samples=np.zeros((T,4))\n",
    "    for i in range(T):\n",
    "        samples[i][0]=X\n",
    "        #print(np.argmax(policy[X,:]))\n",
    "        samples[i][1]=np.random.choice([0,1],p=policy[X,:])\n",
    "        #print(samples[i][1])\n",
    "        #samples[i][1]=q_s[action]\n",
    "        samples[i][2]=reward(X,samples[i][1])#reward given to agent after executing the action a being in state X.\n",
    "        state_trans_x=P[X,:,int(samples[i][1])]#this line gives the probabilities of transition from the state x to every other state having taken action samples[i][2].\n",
    "        #next_state = np.random.choice(np.nonzero(state_trans_x)[0],p=state_trans_x[(np.nonzero(state_trans_x)[0])])\n",
    "        next_state = np.random.choice(list(range(100)),p=state_trans_x)\n",
    "        X=next_state\n",
    "        samples[i][3]=X\n",
    "    return samples"
   ]
  },
  {
   "cell_type": "markdown",
   "metadata": {},
   "source": [
    "Here, we include the Q^ function which we will use to compute the next policy in the Soft Policy Iteration."
   ]
  },
  {
   "cell_type": "code",
   "execution_count": 99,
   "metadata": {},
   "outputs": [],
   "source": [
    "def Q(x,a,Value):\n",
    "    if x==0:\n",
    "        return reward(x,a)+ gamma*(1-p)*(1-q_s[a])*Value[int(x)]+gamma*p*(q_s[a]*Value[int(x)]+(1-q_s[a])*Value[int(x+1)])\n",
    "    elif x==N-1:\n",
    "        return reward(x,a) + gamma*(1-p)*(q_s[a]*Value[int(x-1)]+(1-q_s[a])*Value[int(x)])+gamma*p*q_s[a]*Value[int(x)]\n",
    "    return reward(x,a) + gamma*(1-p)*(q_s[a]*Value[int(x-1)]+(1-q_s[a])*Value[int(x)])+gamma*p*(q_s[a]*Value[int(x)]+(1-q_s[a])*Value[int(x+1)])"
   ]
  },
  {
   "cell_type": "code",
   "execution_count": 142,
   "metadata": {},
   "outputs": [],
   "source": [
    "def soft_policy_it(ita):\n",
    "    pi=pi_initial.copy()\n",
    "    samples=sample_generator(pi_initial,99)\n",
    "    #print(samples[:,1])\n",
    "    suma=0\n",
    "    for i in range(K):\n",
    "        value=LSTD(mapp_piece,samples)\n",
    "        suma+=np.sum(samples[:,2])\n",
    "        for x in range(N):\n",
    "            valores=np.zeros(2)\n",
    "            copia_pi=np.zeros(2)\n",
    "            for a in actions:\n",
    "                valores[a] = Q(x,a,value)\n",
    "            copia_pi=np.multiply(pi[x],np.exp(ita*(valores-np.max(valores))))/(np.sum(np.multiply(pi[x],np.exp(ita*(valores-np.max(valores))))))\n",
    "            pi[x,:]=0\n",
    "            pi[x]=copia_pi\n",
    "            #print(pi)\n",
    "        #transition=trans(P,pi)\n",
    "        X=int(samples[-1][0])\n",
    "        samples=sample_generator(pi,X)\n",
    "    print(suma)\n",
    "    return pi,suma"
   ]
  },
  {
   "cell_type": "code",
   "execution_count": 144,
   "metadata": {},
   "outputs": [
    {
     "name": "stdout",
     "output_type": "stream",
     "text": [
      "-285726.3345000001\n",
      "-284683.86919999996\n",
      "-282717.06620000006\n",
      "-286026.8941-281210.4204\n",
      "\n",
      "-271624.28720000014\n",
      "-275802.6932000001\n",
      "-283869.67880000017\n",
      "-278936.00310000003\n",
      "-285263.00269999995\n",
      "-259663.03299999997\n",
      "-268501.8550000001\n",
      "-263343.9592\n",
      "-280648.44460000005\n",
      "-269773.1192000002\n",
      "-321198.12600000005\n",
      "-294527.6312\n",
      "-260578.78280000007\n",
      "-335210.2716999999\n",
      "-309956.6499999999\n",
      "-326947.3852000001\n",
      "-323441.9194\n",
      "-320393.3463\n",
      "-316562.43620000005\n",
      "-326024.59760000027\n",
      "-330155.0150999999\n",
      "-318394.0366000001\n",
      "-326689.6399000001\n",
      "-329702.76660000015\n",
      "-325070.5034\n"
     ]
    }
   ],
   "source": [
    "from multiprocess import Pool\n",
    "import os\n",
    "itas=np.logspace(-2,2,30)\n",
    "with Pool(processes=os.cpu_count()) as pool:\n",
    "    results_list = pool.map(soft_policy_it, itas)"
   ]
  },
  {
   "cell_type": "code",
   "execution_count": 146,
   "metadata": {},
   "outputs": [],
   "source": [
    "results_list_rew=[i for policy,i in results_list]"
   ]
  },
  {
   "cell_type": "code",
   "execution_count": 147,
   "metadata": {},
   "outputs": [
    {
     "data": {
      "text/plain": [
       "[<matplotlib.lines.Line2D at 0x130bc8550>]"
      ]
     },
     "execution_count": 147,
     "metadata": {},
     "output_type": "execute_result"
    },
    {
     "data": {
      "image/png": "[encoded data removed]",
      "text/plain": [
       "<Figure size 640x480 with 1 Axes>"
      ]
     },
     "metadata": {},
     "output_type": "display_data"
    }
   ],
   "source": [
    "plt.semilogx(np.logspace(-2,2,30),results_list_rew)"
   ]
  },
  {
   "cell_type": "markdown",
   "metadata": {},
   "source": [
    "As we can see, the value of ita that maximizes the total reward accumulated during the Soft Policy Algorithm is around 0.7. We can also observ that for values of ita around 1.2-1.3 and on, the performance is very poor and the total accumulated reward is very negative. Moreover, the graph is erratic in that region, showing a non uniform behaviour, i.e., for small changes in ita, the total accumulated reward changes in a big amount. It is basically due to the fact that our method involves operation with the exponential, that for big values of ita, behaves too drastically and overshoots the resulting policies in each iteration of the algorithm, ledding to a different performance of the policy according to the parameter, even if the change is small."
   ]
  }
 ],
 "metadata": {
  "kernelspec": {
   "display_name": "venv",
   "language": "python",
   "name": "python3"
  },
  "language_info": {
   "codemirror_mode": {
    "name": "ipython",
    "version": 3
   },
   "file_extension": ".py",
   "mimetype": "text/x-python",
   "name": "python",
   "nbconvert_exporter": "python",
   "pygments_lexer": "ipython3",
   "version": "3.11.4"
  }
 },
 "nbformat": 4,
 "nbformat_minor": 2
}
